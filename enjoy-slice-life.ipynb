{
 "cells": [
  {
   "cell_type": "markdown",
   "metadata": {},
   "source": [
    "# 【Python】スライス操作についてまとめ\n",
    "\n",
    "本記事は、Pythonのスライス操作についてまとめたものです。先行する記事との違いは以下です。\n",
    "\n",
    "- 演算子の優先順位について説明\n",
    "- 対話的環境で、スライスをインデクスに変換する方法を説明\n",
    "- シーケンス内部で、スライスがどう処理されるか説明\n",
    "\n",
    "私と同じ、Python初心者の役に立てばよいなと思います。"
   ]
  },
  {
   "cell_type": "markdown",
   "metadata": {},
   "source": [
    "## 基本\n",
    "\n",
    "シーケンス（リスト、文字列、タプル、バイト列）の一部分を切り取ってコピーを返してくれる仕組みを、**スライス**と呼びます。\n",
    "\n",
    "通常、シーケンスへのアクセスは、以下のようにインデクスを指定して、その要素を取得する形で行います。\n",
    "\n",
    "```python\n",
    "sequence[index]\n",
    "```\n",
    "\n",
    "なお、シーケンスの先頭要素のインデクスは、1でなく、0です。"
   ]
  },
  {
   "cell_type": "code",
   "execution_count": 1,
   "metadata": {},
   "outputs": [
    {
     "data": {
      "text/plain": [
       "'h'"
      ]
     },
     "execution_count": 1,
     "metadata": {},
     "output_type": "execute_result"
    }
   ],
   "source": [
    "s = 'Python'\n",
    "s[3]"
   ]
  },
  {
   "cell_type": "markdown",
   "metadata": {},
   "source": [
    "他方、スライスでは、以下のように、始点と終点のインデクスを、コロンを挟む形で指定します。\n",
    "\n",
    "```python\n",
    "sequence[start:stop]\n",
    "```\n",
    "\n",
    "取得できるのは、要素ではなく、シーケンス（要素の列）となります。"
   ]
  },
  {
   "cell_type": "code",
   "execution_count": 2,
   "metadata": {},
   "outputs": [
    {
     "data": {
      "text/plain": [
       "'tho'"
      ]
     },
     "execution_count": 2,
     "metadata": {},
     "output_type": "execute_result"
    }
   ],
   "source": [
    "s = 'Python'\n",
    "s[2:5]"
   ]
  },
  {
   "cell_type": "markdown",
   "metadata": {},
   "source": [
    "今の例で、終点、すなわち、インデクスが5の要素（'n'）が含まれないことには、注意が必要です。[Pythonチュートリアル](https://docs.python.jp/3/tutorial/introduction.html#strings)に記載のとおり、以下のように考えるとよいです。\n",
    "\n",
    "- インデクスは文字と文字の間(between)を指しており、最初の文字の左端が0になっている\n",
    "\n",
    "![figure0000](figures/enjoy-slice-life-0000.png)\n"
   ]
  },
  {
   "cell_type": "markdown",
   "metadata": {},
   "source": [
    "## 始点、終点の省略\n",
    "\n",
    "始点、終点は省略可能です。始点省略時は、シーケンスの先頭から取得してくれます。終点省略時は、シーケンスの末尾まで取得してくれます。"
   ]
  },
  {
   "cell_type": "code",
   "execution_count": 3,
   "metadata": {},
   "outputs": [
    {
     "data": {
      "text/plain": [
       "'Pytho'"
      ]
     },
     "execution_count": 3,
     "metadata": {},
     "output_type": "execute_result"
    }
   ],
   "source": [
    "s = 'Python'\n",
    "s[:5]"
   ]
  },
  {
   "cell_type": "code",
   "execution_count": 4,
   "metadata": {},
   "outputs": [
    {
     "data": {
      "text/plain": [
       "'thon'"
      ]
     },
     "execution_count": 4,
     "metadata": {},
     "output_type": "execute_result"
    }
   ],
   "source": [
    "s = 'Python'\n",
    "s[2:]"
   ]
  },
  {
   "cell_type": "code",
   "execution_count": 5,
   "metadata": {},
   "outputs": [
    {
     "data": {
      "text/plain": [
       "'Python'"
      ]
     },
     "execution_count": 5,
     "metadata": {},
     "output_type": "execute_result"
    }
   ],
   "source": [
    "s = 'Python'\n",
    "s[:]"
   ]
  },
  {
   "cell_type": "markdown",
   "metadata": {},
   "source": [
    "最後の例は、ミュータブル（＝変更可能）なシーケンス——要するにリスト——のコピーを取る簡潔な方法として好まれます。\n",
    "\n",
    "以下の例は、スライス操作によって別オブジェクトが生成されることを示しています。`id()`は、オブジェクトの一意なIDを取得する、組み込み関数です。"
   ]
  },
  {
   "cell_type": "code",
   "execution_count": 6,
   "metadata": {},
   "outputs": [
    {
     "name": "stdout",
     "output_type": "stream",
     "text": [
      "4366252232 4366252168\n"
     ]
    }
   ],
   "source": [
    "s1 = [0, 1, 2, 3, 4, 5]\n",
    "s2 = s1[:]\n",
    "print(id(s1), id(s2))"
   ]
  },
  {
   "cell_type": "markdown",
   "metadata": {},
   "source": [
    "## 負数の指定\n",
    "\n",
    "インデクスには、負数を指定することもできます。負数を指定した場合、末尾の要素を-1とする相対インデクスとして解釈されます。\n",
    "\n",
    "![figure0001](figures/enjoy-slice-life-0001.png)\n"
   ]
  },
  {
   "cell_type": "markdown",
   "metadata": {},
   "source": [
    "以下の例は、シーケンス末尾の2つの要素を取得する例です。"
   ]
  },
  {
   "cell_type": "code",
   "execution_count": 7,
   "metadata": {},
   "outputs": [
    {
     "data": {
      "text/plain": [
       "'on'"
      ]
     },
     "execution_count": 7,
     "metadata": {},
     "output_type": "execute_result"
    }
   ],
   "source": [
    "s = 'Python'\n",
    "s[-2:]"
   ]
  },
  {
   "cell_type": "markdown",
   "metadata": {},
   "source": [
    "## IndexError\n",
    "\n",
    "スライス指定時は、インデクス指定時と異なり、IndexErrorが発生**しない**です。"
   ]
  },
  {
   "cell_type": "code",
   "execution_count": 8,
   "metadata": {},
   "outputs": [
    {
     "name": "stdout",
     "output_type": "stream",
     "text": [
      "<class 'IndexError'>\n",
      "string index out of range\n",
      "<traceback object at 0x1044a3888>\n"
     ]
    }
   ],
   "source": [
    "# インデクス指定時\n",
    "import sys\n",
    "s = 'Python'\n",
    "try:\n",
    "    s[100]\n",
    "except:\n",
    "    for info in sys.exc_info():\n",
    "        print(info)"
   ]
  },
  {
   "cell_type": "code",
   "execution_count": 9,
   "metadata": {},
   "outputs": [
    {
     "data": {
      "text/plain": [
       "'Python'"
      ]
     },
     "execution_count": 9,
     "metadata": {},
     "output_type": "execute_result"
    }
   ],
   "source": [
    "# スライス指定時\n",
    "s = 'Python'\n",
    "s[0:100]"
   ]
  },
  {
   "cell_type": "markdown",
   "metadata": {},
   "source": [
    "これは、シーケンスが、スライスをインデクスに変換するとき、**いい感じに**変換してくれるためです。"
   ]
  },
  {
   "cell_type": "markdown",
   "metadata": {},
   "source": [
    "## 優先順位\n",
    "\n",
    "[言語リファレンス](https://docs.python.jp/3/reference/expressions.html#operator-precedence)より、Pythonにおける演算子の優先順位を要約した表を引用します。最上段が、優先順位の最も低い (結合が最も弱い) もの。最下段が、最も高い (結合が最も強い) ものです。同じボックス内の演算子の優先順位は同じです。\n",
    "\n",
    "|演算子|説明|\n",
    "|:--|:--|\n",
    "|lambda|ラムダ式|\n",
    "|if – else|条件式|\n",
    "|or|ブール演算 OR|\n",
    "|and|ブール演算 AND|\n",
    "|not x|ブール演算 NOT|\n",
    "|in, not in, is, is not, <, <=, >, >=, !=, ==|帰属や同一性のテストを含む比較|\n",
    "|&#124;|ビット単位 OR|\n",
    "|^|ビット単位 XOR|\n",
    "|&|ビット単位 AND|\n",
    "|<<, >>|シフト演算|\n",
    "|+, -|加算および減算\n",
    "|\\*, @, /, //, %|乗算, 行列積, 除算, 商, 剰余\n",
    "|+x, -x, ~x|正数、負数、ビット単位 NOT|\n",
    "|\\*\\*|べき乗|\n",
    "|await x|Await 式|\n",
    "|x\\[index\\], x\\[index:index\\], x(arguments...), x.attribute|添字指定、スライス操作、呼び出し、属性参照|\n",
    "|(expressions...), \\[expressions...\\], {key: value...}, {expressions...}|式結合またはタプル表示、リスト表示、辞書表示、集合表示|\n",
    "\n",
    "スライス操作は下から二段目に位置しており、優先順位が高いです。以下の例では、スライス操作が先に評価され、次に加算が評価されます。すなわち、'Pyt'という文字列と、'hon'という文字列の結合が行われます。"
   ]
  },
  {
   "cell_type": "code",
   "execution_count": 10,
   "metadata": {},
   "outputs": [
    {
     "data": {
      "text/plain": [
       "'Python'"
      ]
     },
     "execution_count": 10,
     "metadata": {},
     "output_type": "execute_result"
    }
   ],
   "source": [
    "s1 = 'Python'\n",
    "s2 = s1[:3] + s1[3:]\n",
    "s2"
   ]
  },
  {
   "cell_type": "markdown",
   "metadata": {},
   "source": [
    "ただし、先ほどの表からは読み取れないのですが——コロンそのものの優先順位は低いです。\n",
    "\n",
    "以下の例は、「次の数値は何か？」をディープラーニングさせるため、系列データに対して正解ラベルをセットしている例です。"
   ]
  },
  {
   "cell_type": "code",
   "execution_count": 11,
   "metadata": {},
   "outputs": [
    {
     "name": "stdout",
     "output_type": "stream",
     "text": [
      "[0, 1, 2, 3, 4, 5, 6, 7, 8] 9\n",
      "[1, 2, 3, 4, 5, 6, 7, 8, 9] 10\n"
     ]
    }
   ],
   "source": [
    "raw_data = [x for x in range(100)]\n",
    "data_length = 9\n",
    "data, label = [], []\n",
    "\n",
    "for i in range(len(raw_data) - data_length):\n",
    "    data.append(raw_data[i:i + data_length])  # ★\n",
    "    label.append(raw_data[i + data_length])\n",
    "\n",
    "print(data[0], label[0])\n",
    "print(data[1], label[1])"
   ]
  },
  {
   "cell_type": "markdown",
   "metadata": {},
   "source": [
    "この例は本記事のために書き下ろしたものですが、qiitaのとある記事に掲載されていたコードを元にしたものです。\n",
    "\n",
    "演算子の優先順位を知らずに、★の行を見ると、何のことだかわからないと思います。コロンの優先順位はプラスよりも低いため、あえてカッコを付けてコードの意図を明示するなら、以下のようになります。\n",
    "\n",
    "```python\n",
    "for i in range(len(raw_data) - data_length):\n",
    "    data.append(raw_data[i:(i + data_length)])  # ★\n",
    "    label.append(raw_data[i + data_length])\n",
    "```\n",
    "\n",
    "何のことはない、ただのスライス操作をしているだけだとわかります。"
   ]
  },
  {
   "cell_type": "markdown",
   "metadata": {},
   "source": [
    "## ステップの指定\n",
    "\n",
    "スライスでは、以下のように、ステップを指定することも可能です。\n",
    "\n",
    "```python\n",
    "sequence[start:stop:step]\n",
    "```\n",
    "\n",
    "省略時は、1を指定したものと見なされます。"
   ]
  },
  {
   "cell_type": "code",
   "execution_count": 12,
   "metadata": {},
   "outputs": [
    {
     "name": "stdout",
     "output_type": "stream",
     "text": [
      "[0, 2, 4, 6, 8, 10]\n",
      "[1, 3, 5, 7, 9]\n"
     ]
    }
   ],
   "source": [
    "s = [0, 1, 2, 3, 4, 5, 6, 7, 8, 9, 10]\n",
    "even = s[::2]  # 偶数\n",
    "odd = s[1::2]  # 奇数\n",
    "print(even)\n",
    "print(odd)"
   ]
  },
  {
   "cell_type": "markdown",
   "metadata": {},
   "source": [
    "ステップには負数を指定することも可能です。この場合、マイナス方向に（末尾から先頭に向かって）切り取りが行われます。以下の例は、シーケンスをリバースする簡潔な方法として好まれます。"
   ]
  },
  {
   "cell_type": "code",
   "execution_count": 13,
   "metadata": {},
   "outputs": [
    {
     "data": {
      "text/plain": [
       "'nohtyP'"
      ]
     },
     "execution_count": 13,
     "metadata": {},
     "output_type": "execute_result"
    }
   ],
   "source": [
    "s = 'Python'\n",
    "s[::-1]"
   ]
  },
  {
   "cell_type": "markdown",
   "metadata": {},
   "source": [
    "## スライスはどのようにインデクスに変換されるか\n",
    "\n",
    "スライス指定時、内部的にはインデクスに変換され、インデクスで処理が行われます。今の例で、スライスはどのようにインデクスに変換されるでしょうか。実は、対話的環境で、以下のコードを実行すれば、簡単に確認することができます。"
   ]
  },
  {
   "cell_type": "code",
   "execution_count": 14,
   "metadata": {},
   "outputs": [
    {
     "data": {
      "text/plain": [
       "(5, -1, -1)"
      ]
     },
     "execution_count": 14,
     "metadata": {},
     "output_type": "execute_result"
    }
   ],
   "source": [
    "s = 'Python'\n",
    "slice(None, None, -1).indices(len(s))"
   ]
  },
  {
   "cell_type": "markdown",
   "metadata": {},
   "source": [
    "`slice()`は、[スライスオブジェクト](https://docs.python.jp/3/reference/datamodel.html#index-64)を生成します。そして、[@shiracamus](https://qiita.com/shiracamus)氏にコメントで補足説明して頂いたように、シーケンスに渡るのも、スライスオブジェクトです。引数は、先ほどの例で言えば、始点、終点、ステップの3つのうち、ステップのみが指定されていたので、`slice(None, None, -1)`となります。\n",
    "\n",
    "indicesは、indexの複数形を表す英語で、インディスィーズと発音されます。`indices()`は、スライスオブジェクトとシーケンスの長さを元に、スライスをインデクスに変換してくれます。\n",
    "\n",
    "今の例では、n（5）からP（-1）までマイナス方向に1つずつ（-1）切り取っていく——すなわちリバースする——ということだとわかります。\n",
    "\n",
    "![figure0002](figures/enjoy-slice-life-0002.png)\n",
    "\n",
    "`indices()`は、**いい感じ**にインデクスに変換してくれます。もし、大きすぎる数を指定しても、問題なく処理してくれます。"
   ]
  },
  {
   "cell_type": "code",
   "execution_count": 15,
   "metadata": {},
   "outputs": [
    {
     "data": {
      "text/plain": [
       "(0, 6, 1)"
      ]
     },
     "execution_count": 15,
     "metadata": {},
     "output_type": "execute_result"
    }
   ],
   "source": [
    "s = 'Python'\n",
    "slice(-100, 100, 1).indices(len(s))"
   ]
  },
  {
   "cell_type": "markdown",
   "metadata": {},
   "source": [
    "シーケンス（リスト、文字列、タプル、バイト列）内部でも、スライスがいい感じにインデクスに変換されるので、IndexErrorが発生しないのです。"
   ]
  },
  {
   "cell_type": "markdown",
   "metadata": {},
   "source": [
    "## シーケンス内部で、スライスがどう処理されるか\n"
   ]
  },
  {
   "cell_type": "markdown",
   "metadata": {},
   "source": [
    "リストについて、[CPythonの実装](https://github.com/python/cpython/blob/master/Objects/listobject.c)を見る限り、`indices()`に相当するCの関数ではなく、別のCの関数を2つ呼び出して、スライスを処理している様子です。理由はわかりません。Pythonに移植してみましたが、`indices()`と同じ動きをするように見えます。"
   ]
  },
  {
   "cell_type": "code",
   "execution_count": 16,
   "metadata": {},
   "outputs": [
    {
     "name": "stdout",
     "output_type": "stream",
     "text": [
      "(2, 5, 1)\n",
      "(0, 5, 1)\n",
      "(2, 10, 1)\n",
      "(0, 10, 1)\n",
      "(8, 10, 1)\n",
      "(0, 10, 1)\n",
      "(0, 10, 2)\n",
      "(1, 10, 2)\n",
      "(9, -1, -1)\n",
      "(0, 10, 1)\n"
     ]
    }
   ],
   "source": [
    "import sys\n",
    "\n",
    "def pyslice_unpack(r):\n",
    "    if r.step is None:\n",
    "        step = 1\n",
    "    else:\n",
    "        step = r.step\n",
    "        if step == 0:\n",
    "            raise ValueError('slice step cannot be zero')\n",
    "        if step < -sys.maxsize:\n",
    "            step = -sys.maxsize\n",
    "            \n",
    "    if r.start is None:\n",
    "        start = sys.maxsize if step < 0 else 0\n",
    "    else:\n",
    "        start = r.start\n",
    "    \n",
    "    if r.stop is None:\n",
    "        stop = -sys.maxsize if step < 0 else sys.maxsize\n",
    "    else:\n",
    "        stop = r.stop\n",
    "    return start, stop, step\n",
    "\n",
    "def adjust_indices(length, start, stop, step):\n",
    "    assert step != 0\n",
    "    assert step >= -sys.maxsize\n",
    "    \n",
    "    if start < 0:\n",
    "        start += length\n",
    "        if start < 0:\n",
    "            start = -1 if step < 0 else 0\n",
    "    elif start >= length:\n",
    "        start = length - 1 if step < 0 else length\n",
    "\n",
    "    if stop < 0:\n",
    "        stop += length\n",
    "        if stop < 0:\n",
    "            stop = -1 if step < 0 else 0\n",
    "    elif stop >= length:\n",
    "        stop = length - 1 if step < 0 else length\n",
    "    \n",
    "    return start, stop, step\n",
    "\n",
    "def slice_indices(slice_, length):\n",
    "    start, stop, step = pyslice_unpack(slice_)\n",
    "    start, stop, step = adjust_indices(length, start, stop, step)\n",
    "    return start, stop, step\n",
    "\n",
    "print(slice_indices(slice(2, 5), 10))\n",
    "print(slice_indices(slice(None, 5), 10))\n",
    "print(slice_indices(slice(2, None), 10))\n",
    "print(slice_indices(slice(None, None), 10))\n",
    "print(slice_indices(slice(-2, None), 10))\n",
    "print(slice_indices(slice(0, 100), 10))\n",
    "print(slice_indices(slice(None, None, 2), 10))\n",
    "print(slice_indices(slice(1, None, 2), 10))\n",
    "print(slice_indices(slice(None, None, -1), 10))\n",
    "print(slice_indices(slice(-100, 100, 1), 10))"
   ]
  },
  {
   "cell_type": "markdown",
   "metadata": {},
   "source": [
    "ともあれ、もしシーケンスをユーザ定義することがあれば、スライスの処理には、`indices()`を活用できると思います。実際、以下の記事で、rangeを再実装した際にも活用しました。ご興味があれば、ご参照ください。\n",
    "\n",
    "- [【Python】rangeを再実装し、計算量について学ぶ](https://qiita.com/tanuk1647/items/6051599e8eeff510a453)\n"
   ]
  },
  {
   "cell_type": "markdown",
   "metadata": {},
   "source": [
    "## まとめ\n",
    "\n",
    "スライス操作は便利なものですので、ぜひ、活用していきましょう！！"
   ]
  }
 ],
 "metadata": {
  "kernelspec": {
   "display_name": "introduction",
   "language": "python",
   "name": "introduction"
  },
  "language_info": {
   "codemirror_mode": {
    "name": "ipython",
    "version": 3
   },
   "file_extension": ".py",
   "mimetype": "text/x-python",
   "name": "python",
   "nbconvert_exporter": "python",
   "pygments_lexer": "ipython3",
   "version": "3.6.6"
  }
 },
 "nbformat": 4,
 "nbformat_minor": 2
}
